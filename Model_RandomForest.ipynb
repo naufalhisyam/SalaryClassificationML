{
 "cells": [
  {
   "attachments": {},
   "cell_type": "markdown",
   "metadata": {
    "colab_type": "text",
    "id": "B6o6sogeim7U"
   },
   "source": [
    "## RandomForest"
   ]
  },
  {
   "cell_type": "code",
   "execution_count": 98,
   "metadata": {
    "colab": {},
    "colab_type": "code",
    "id": "JV16i-inim7V"
   },
   "outputs": [],
   "source": [
    "import numpy as np\n",
    "import pandas as pd"
   ]
  },
  {
   "cell_type": "code",
   "execution_count": 99,
   "metadata": {
    "colab": {},
    "colab_type": "code",
    "id": "_Lo4ohdmkxoK"
   },
   "outputs": [],
   "source": [
    "df_train = pd.read_csv('train_mm_umur.csv')\n",
    "df_test = pd.read_csv('test_mm_umur.csv')"
   ]
  },
  {
   "cell_type": "code",
   "execution_count": 101,
   "metadata": {
    "colab": {},
    "colab_type": "code",
    "id": "z9AdhJxwim7m"
   },
   "outputs": [],
   "source": [
    "x_train = df_train.drop(['id','Gaji'], axis=1)\n",
    "y_train = df_train['Gaji']"
   ]
  },
  {
   "cell_type": "code",
   "execution_count": 102,
   "metadata": {},
   "outputs": [
    {
     "data": {
      "text/html": [
       "<div>\n",
       "<style scoped>\n",
       "    .dataframe tbody tr th:only-of-type {\n",
       "        vertical-align: middle;\n",
       "    }\n",
       "\n",
       "    .dataframe tbody tr th {\n",
       "        vertical-align: top;\n",
       "    }\n",
       "\n",
       "    .dataframe thead th {\n",
       "        text-align: right;\n",
       "    }\n",
       "</style>\n",
       "<table border=\"1\" class=\"dataframe\">\n",
       "  <thead>\n",
       "    <tr style=\"text-align: right;\">\n",
       "      <th></th>\n",
       "      <th>id</th>\n",
       "      <th>Jenis Kelamin</th>\n",
       "      <th>Gaji</th>\n",
       "      <th>Berpisah</th>\n",
       "      <th>Cerai</th>\n",
       "      <th>Janda</th>\n",
       "      <th>Menikah</th>\n",
       "      <th>Menikah LDR</th>\n",
       "      <th>Ekesekutif Managerial</th>\n",
       "      <th>Mesin Inspeksi</th>\n",
       "      <th>...</th>\n",
       "      <th>Pemerintah Provinsi</th>\n",
       "      <th>Tanpa di Bayar</th>\n",
       "      <th>Tidak Pernah Bekerja</th>\n",
       "      <th>Wiraswasta</th>\n",
       "      <th>Jam per Minggu</th>\n",
       "      <th>Jmlh Tahun Pendidikan</th>\n",
       "      <th>Umur</th>\n",
       "      <th>Berat Akhir</th>\n",
       "      <th>Keuntungan Kapital</th>\n",
       "      <th>Kerugian Capital</th>\n",
       "    </tr>\n",
       "  </thead>\n",
       "  <tbody>\n",
       "    <tr>\n",
       "      <th>0</th>\n",
       "      <td>0</td>\n",
       "      <td>0</td>\n",
       "      <td>0</td>\n",
       "      <td>0</td>\n",
       "      <td>0</td>\n",
       "      <td>0</td>\n",
       "      <td>0</td>\n",
       "      <td>0</td>\n",
       "      <td>0</td>\n",
       "      <td>0</td>\n",
       "      <td>...</td>\n",
       "      <td>0</td>\n",
       "      <td>0</td>\n",
       "      <td>0</td>\n",
       "      <td>1</td>\n",
       "      <td>0.346939</td>\n",
       "      <td>0.533333</td>\n",
       "      <td>0.054795</td>\n",
       "      <td>0.156028</td>\n",
       "      <td>0.000000</td>\n",
       "      <td>0.0</td>\n",
       "    </tr>\n",
       "    <tr>\n",
       "      <th>1</th>\n",
       "      <td>1</td>\n",
       "      <td>0</td>\n",
       "      <td>0</td>\n",
       "      <td>0</td>\n",
       "      <td>1</td>\n",
       "      <td>0</td>\n",
       "      <td>0</td>\n",
       "      <td>0</td>\n",
       "      <td>1</td>\n",
       "      <td>0</td>\n",
       "      <td>...</td>\n",
       "      <td>0</td>\n",
       "      <td>0</td>\n",
       "      <td>0</td>\n",
       "      <td>1</td>\n",
       "      <td>0.397959</td>\n",
       "      <td>0.333333</td>\n",
       "      <td>0.438356</td>\n",
       "      <td>0.086933</td>\n",
       "      <td>0.000000</td>\n",
       "      <td>0.0</td>\n",
       "    </tr>\n",
       "    <tr>\n",
       "      <th>2</th>\n",
       "      <td>2</td>\n",
       "      <td>1</td>\n",
       "      <td>1</td>\n",
       "      <td>0</td>\n",
       "      <td>0</td>\n",
       "      <td>0</td>\n",
       "      <td>1</td>\n",
       "      <td>0</td>\n",
       "      <td>1</td>\n",
       "      <td>0</td>\n",
       "      <td>...</td>\n",
       "      <td>0</td>\n",
       "      <td>0</td>\n",
       "      <td>0</td>\n",
       "      <td>1</td>\n",
       "      <td>0.448980</td>\n",
       "      <td>0.733333</td>\n",
       "      <td>0.369863</td>\n",
       "      <td>0.072912</td>\n",
       "      <td>0.043860</td>\n",
       "      <td>0.0</td>\n",
       "    </tr>\n",
       "    <tr>\n",
       "      <th>3</th>\n",
       "      <td>3</td>\n",
       "      <td>1</td>\n",
       "      <td>0</td>\n",
       "      <td>0</td>\n",
       "      <td>0</td>\n",
       "      <td>0</td>\n",
       "      <td>0</td>\n",
       "      <td>0</td>\n",
       "      <td>0</td>\n",
       "      <td>0</td>\n",
       "      <td>...</td>\n",
       "      <td>0</td>\n",
       "      <td>0</td>\n",
       "      <td>0</td>\n",
       "      <td>1</td>\n",
       "      <td>0.346939</td>\n",
       "      <td>0.800000</td>\n",
       "      <td>0.095890</td>\n",
       "      <td>0.123363</td>\n",
       "      <td>0.000000</td>\n",
       "      <td>0.0</td>\n",
       "    </tr>\n",
       "    <tr>\n",
       "      <th>4</th>\n",
       "      <td>4</td>\n",
       "      <td>1</td>\n",
       "      <td>1</td>\n",
       "      <td>0</td>\n",
       "      <td>0</td>\n",
       "      <td>0</td>\n",
       "      <td>1</td>\n",
       "      <td>0</td>\n",
       "      <td>0</td>\n",
       "      <td>0</td>\n",
       "      <td>...</td>\n",
       "      <td>0</td>\n",
       "      <td>0</td>\n",
       "      <td>0</td>\n",
       "      <td>1</td>\n",
       "      <td>0.397959</td>\n",
       "      <td>0.866667</td>\n",
       "      <td>0.219178</td>\n",
       "      <td>0.140269</td>\n",
       "      <td>0.150242</td>\n",
       "      <td>0.0</td>\n",
       "    </tr>\n",
       "    <tr>\n",
       "      <th>...</th>\n",
       "      <td>...</td>\n",
       "      <td>...</td>\n",
       "      <td>...</td>\n",
       "      <td>...</td>\n",
       "      <td>...</td>\n",
       "      <td>...</td>\n",
       "      <td>...</td>\n",
       "      <td>...</td>\n",
       "      <td>...</td>\n",
       "      <td>...</td>\n",
       "      <td>...</td>\n",
       "      <td>...</td>\n",
       "      <td>...</td>\n",
       "      <td>...</td>\n",
       "      <td>...</td>\n",
       "      <td>...</td>\n",
       "      <td>...</td>\n",
       "      <td>...</td>\n",
       "      <td>...</td>\n",
       "      <td>...</td>\n",
       "      <td>...</td>\n",
       "    </tr>\n",
       "    <tr>\n",
       "      <th>35989</th>\n",
       "      <td>35989</td>\n",
       "      <td>1</td>\n",
       "      <td>0</td>\n",
       "      <td>0</td>\n",
       "      <td>0</td>\n",
       "      <td>0</td>\n",
       "      <td>1</td>\n",
       "      <td>0</td>\n",
       "      <td>0</td>\n",
       "      <td>0</td>\n",
       "      <td>...</td>\n",
       "      <td>0</td>\n",
       "      <td>0</td>\n",
       "      <td>0</td>\n",
       "      <td>0</td>\n",
       "      <td>0.397959</td>\n",
       "      <td>0.533333</td>\n",
       "      <td>0.410959</td>\n",
       "      <td>0.091931</td>\n",
       "      <td>0.000000</td>\n",
       "      <td>0.0</td>\n",
       "    </tr>\n",
       "    <tr>\n",
       "      <th>35990</th>\n",
       "      <td>35990</td>\n",
       "      <td>1</td>\n",
       "      <td>1</td>\n",
       "      <td>0</td>\n",
       "      <td>0</td>\n",
       "      <td>0</td>\n",
       "      <td>1</td>\n",
       "      <td>0</td>\n",
       "      <td>0</td>\n",
       "      <td>0</td>\n",
       "      <td>...</td>\n",
       "      <td>0</td>\n",
       "      <td>0</td>\n",
       "      <td>0</td>\n",
       "      <td>0</td>\n",
       "      <td>0.397959</td>\n",
       "      <td>0.733333</td>\n",
       "      <td>0.712329</td>\n",
       "      <td>0.170783</td>\n",
       "      <td>0.000000</td>\n",
       "      <td>0.0</td>\n",
       "    </tr>\n",
       "    <tr>\n",
       "      <th>35991</th>\n",
       "      <td>35991</td>\n",
       "      <td>0</td>\n",
       "      <td>1</td>\n",
       "      <td>0</td>\n",
       "      <td>0</td>\n",
       "      <td>0</td>\n",
       "      <td>1</td>\n",
       "      <td>0</td>\n",
       "      <td>0</td>\n",
       "      <td>0</td>\n",
       "      <td>...</td>\n",
       "      <td>0</td>\n",
       "      <td>0</td>\n",
       "      <td>0</td>\n",
       "      <td>0</td>\n",
       "      <td>0.193878</td>\n",
       "      <td>0.800000</td>\n",
       "      <td>0.095890</td>\n",
       "      <td>0.013071</td>\n",
       "      <td>0.000000</td>\n",
       "      <td>0.0</td>\n",
       "    </tr>\n",
       "    <tr>\n",
       "      <th>35992</th>\n",
       "      <td>35992</td>\n",
       "      <td>1</td>\n",
       "      <td>0</td>\n",
       "      <td>0</td>\n",
       "      <td>0</td>\n",
       "      <td>0</td>\n",
       "      <td>1</td>\n",
       "      <td>0</td>\n",
       "      <td>0</td>\n",
       "      <td>0</td>\n",
       "      <td>...</td>\n",
       "      <td>0</td>\n",
       "      <td>0</td>\n",
       "      <td>0</td>\n",
       "      <td>1</td>\n",
       "      <td>0.448980</td>\n",
       "      <td>0.533333</td>\n",
       "      <td>0.410959</td>\n",
       "      <td>0.125532</td>\n",
       "      <td>0.000000</td>\n",
       "      <td>0.0</td>\n",
       "    </tr>\n",
       "    <tr>\n",
       "      <th>35993</th>\n",
       "      <td>35993</td>\n",
       "      <td>1</td>\n",
       "      <td>1</td>\n",
       "      <td>0</td>\n",
       "      <td>0</td>\n",
       "      <td>0</td>\n",
       "      <td>1</td>\n",
       "      <td>0</td>\n",
       "      <td>1</td>\n",
       "      <td>0</td>\n",
       "      <td>...</td>\n",
       "      <td>0</td>\n",
       "      <td>0</td>\n",
       "      <td>0</td>\n",
       "      <td>1</td>\n",
       "      <td>0.602041</td>\n",
       "      <td>0.800000</td>\n",
       "      <td>0.383562</td>\n",
       "      <td>0.156590</td>\n",
       "      <td>0.000000</td>\n",
       "      <td>0.0</td>\n",
       "    </tr>\n",
       "  </tbody>\n",
       "</table>\n",
       "<p>35994 rows × 34 columns</p>\n",
       "</div>"
      ],
      "text/plain": [
       "          id  Jenis Kelamin  Gaji  Berpisah  Cerai  Janda  Menikah  \\\n",
       "0          0              0     0         0      0      0        0   \n",
       "1          1              0     0         0      1      0        0   \n",
       "2          2              1     1         0      0      0        1   \n",
       "3          3              1     0         0      0      0        0   \n",
       "4          4              1     1         0      0      0        1   \n",
       "...      ...            ...   ...       ...    ...    ...      ...   \n",
       "35989  35989              1     0         0      0      0        1   \n",
       "35990  35990              1     1         0      0      0        1   \n",
       "35991  35991              0     1         0      0      0        1   \n",
       "35992  35992              1     0         0      0      0        1   \n",
       "35993  35993              1     1         0      0      0        1   \n",
       "\n",
       "       Menikah LDR  Ekesekutif Managerial  Mesin Inspeksi  ...  \\\n",
       "0                0                      0               0  ...   \n",
       "1                0                      1               0  ...   \n",
       "2                0                      1               0  ...   \n",
       "3                0                      0               0  ...   \n",
       "4                0                      0               0  ...   \n",
       "...            ...                    ...             ...  ...   \n",
       "35989            0                      0               0  ...   \n",
       "35990            0                      0               0  ...   \n",
       "35991            0                      0               0  ...   \n",
       "35992            0                      0               0  ...   \n",
       "35993            0                      1               0  ...   \n",
       "\n",
       "       Pemerintah Provinsi  Tanpa di Bayar  Tidak Pernah Bekerja  Wiraswasta  \\\n",
       "0                        0               0                     0           1   \n",
       "1                        0               0                     0           1   \n",
       "2                        0               0                     0           1   \n",
       "3                        0               0                     0           1   \n",
       "4                        0               0                     0           1   \n",
       "...                    ...             ...                   ...         ...   \n",
       "35989                    0               0                     0           0   \n",
       "35990                    0               0                     0           0   \n",
       "35991                    0               0                     0           0   \n",
       "35992                    0               0                     0           1   \n",
       "35993                    0               0                     0           1   \n",
       "\n",
       "       Jam per Minggu  Jmlh Tahun Pendidikan      Umur  Berat Akhir  \\\n",
       "0            0.346939               0.533333  0.054795     0.156028   \n",
       "1            0.397959               0.333333  0.438356     0.086933   \n",
       "2            0.448980               0.733333  0.369863     0.072912   \n",
       "3            0.346939               0.800000  0.095890     0.123363   \n",
       "4            0.397959               0.866667  0.219178     0.140269   \n",
       "...               ...                    ...       ...          ...   \n",
       "35989        0.397959               0.533333  0.410959     0.091931   \n",
       "35990        0.397959               0.733333  0.712329     0.170783   \n",
       "35991        0.193878               0.800000  0.095890     0.013071   \n",
       "35992        0.448980               0.533333  0.410959     0.125532   \n",
       "35993        0.602041               0.800000  0.383562     0.156590   \n",
       "\n",
       "       Keuntungan Kapital  Kerugian Capital  \n",
       "0                0.000000               0.0  \n",
       "1                0.000000               0.0  \n",
       "2                0.043860               0.0  \n",
       "3                0.000000               0.0  \n",
       "4                0.150242               0.0  \n",
       "...                   ...               ...  \n",
       "35989            0.000000               0.0  \n",
       "35990            0.000000               0.0  \n",
       "35991            0.000000               0.0  \n",
       "35992            0.000000               0.0  \n",
       "35993            0.000000               0.0  \n",
       "\n",
       "[35994 rows x 34 columns]"
      ]
     },
     "execution_count": 102,
     "metadata": {},
     "output_type": "execute_result"
    }
   ],
   "source": [
    "df_train"
   ]
  },
  {
   "cell_type": "markdown",
   "metadata": {
    "colab_type": "text",
    "id": "WHOB8liFim7p"
   },
   "source": [
    "## MODEL"
   ]
  },
  {
   "cell_type": "code",
   "execution_count": 103,
   "metadata": {
    "colab": {},
    "colab_type": "code",
    "id": "mtlvfNYtim7q"
   },
   "outputs": [],
   "source": [
    "from sklearn.ensemble import RandomForestClassifier\n",
    "from sklearn.model_selection import GridSearchCV\n"
   ]
  },
  {
   "cell_type": "code",
   "execution_count": 46,
   "metadata": {
    "colab": {},
    "colab_type": "code",
    "id": "VYoDEBBdim7u"
   },
   "outputs": [],
   "source": [
    "param_grid = {'criterion':['gini','entropy'],'n_estimators':[100,],'max_depth':np.arange(1,50,1), 'min_samples_split':np.arange(2,10), 'min_samples_leaf':np.arange(1,10,1),}\n",
    "model = RandomForestClassifier()"
   ]
  },
  {
   "cell_type": "code",
   "execution_count": null,
   "metadata": {
    "colab": {
     "base_uri": "https://localhost:8080/",
     "height": 1000
    },
    "colab_type": "code",
    "id": "gzdr4l4qim7y",
    "outputId": "199dc5f0-95d5-4766-8b51-8cb788ef4463"
   },
   "outputs": [],
   "source": [
    "gs= GridSearchCV(model, param_grid, cv=2, scoring='roc_auc', return_train_score=True, verbose=5, n_jobs=-1)\n",
    "gs.fit(x_train, y_train)"
   ]
  },
  {
   "cell_type": "code",
   "execution_count": null,
   "metadata": {
    "colab": {
     "base_uri": "https://localhost:8080/",
     "height": 34
    },
    "colab_type": "code",
    "id": "RCs1TG8wim72",
    "outputId": "39dcd1dc-50eb-4f77-f8f2-d9f7c91a2b25"
   },
   "outputs": [],
   "source": [
    "gs.best_params_"
   ]
  },
  {
   "cell_type": "code",
   "execution_count": 105,
   "metadata": {
    "colab": {},
    "colab_type": "code",
    "id": "5NTbr_JSim75"
   },
   "outputs": [],
   "source": [
    "model = RandomForestClassifier(n_estimators=10,criterion='gini', max_depth=30, min_samples_leaf=3, min_samples_split=2, max_leaf_nodes=None)"
   ]
  },
  {
   "cell_type": "code",
   "execution_count": 106,
   "metadata": {
    "colab": {
     "base_uri": "https://localhost:8080/",
     "height": 68
    },
    "colab_type": "code",
    "id": "5dVFQ2kfim78",
    "outputId": "8c868c07-acae-45dd-f755-a4c7e5f91517"
   },
   "outputs": [
    {
     "data": {
      "text/plain": [
       "RandomForestClassifier(max_depth=30, min_samples_leaf=3, n_estimators=10)"
      ]
     },
     "execution_count": 106,
     "metadata": {},
     "output_type": "execute_result"
    }
   ],
   "source": [
    "model.fit(x_train, y_train)"
   ]
  },
  {
   "cell_type": "markdown",
   "metadata": {
    "colab_type": "text",
    "id": "X1FuW5gMim7_"
   },
   "source": [
    "## PREDICT"
   ]
  },
  {
   "cell_type": "code",
   "execution_count": 107,
   "metadata": {
    "colab": {},
    "colab_type": "code",
    "id": "SanUg82Qim7_"
   },
   "outputs": [],
   "source": [
    "x_test = df_test.drop('id', axis=1)"
   ]
  },
  {
   "cell_type": "code",
   "execution_count": 108,
   "metadata": {
    "colab": {},
    "colab_type": "code",
    "id": "64EHK6VSim8D"
   },
   "outputs": [],
   "source": [
    "temp = model.predict(x_test)"
   ]
  },
  {
   "cell_type": "code",
   "execution_count": 109,
   "metadata": {
    "colab": {},
    "colab_type": "code",
    "id": "yWPoinVqim8H"
   },
   "outputs": [],
   "source": [
    "df_pred = pd.DataFrame({'Gaji':temp,})"
   ]
  },
  {
   "cell_type": "code",
   "execution_count": 110,
   "metadata": {
    "colab": {
     "base_uri": "https://localhost:8080/",
     "height": 153
    },
    "colab_type": "code",
    "id": "4Q3uaFaSim8L",
    "outputId": "749a5e83-4871-4d8c-e278-5d21a0a37e28"
   },
   "outputs": [
    {
     "name": "stdout",
     "output_type": "stream",
     "text": [
      "<class 'pandas.core.frame.DataFrame'>\n",
      "RangeIndex: 9599 entries, 0 to 9598\n",
      "Data columns (total 1 columns):\n",
      " #   Column  Non-Null Count  Dtype\n",
      "---  ------  --------------  -----\n",
      " 0   Gaji    9599 non-null   int64\n",
      "dtypes: int64(1)\n",
      "memory usage: 75.1 KB\n"
     ]
    }
   ],
   "source": [
    "df_pred.info()"
   ]
  },
  {
   "cell_type": "code",
   "execution_count": 111,
   "metadata": {
    "colab": {
     "base_uri": "https://localhost:8080/",
     "height": 68
    },
    "colab_type": "code",
    "id": "-9iRUVTPim8P",
    "outputId": "93f92e4b-2598-4a8f-a621-a815ae8cb9d8"
   },
   "outputs": [
    {
     "data": {
      "text/plain": [
       "0    7804\n",
       "1    1795\n",
       "Name: Gaji, dtype: int64"
      ]
     },
     "execution_count": 111,
     "metadata": {},
     "output_type": "execute_result"
    }
   ],
   "source": [
    "df_pred['Gaji'].value_counts()"
   ]
  },
  {
   "cell_type": "markdown",
   "metadata": {
    "colab_type": "text",
    "id": "9vEnl9I5im8V"
   },
   "source": [
    "## EVAL"
   ]
  },
  {
   "cell_type": "code",
   "execution_count": 112,
   "metadata": {
    "colab": {},
    "colab_type": "code",
    "id": "JJC2-aJVim8V"
   },
   "outputs": [],
   "source": [
    "from sklearn.model_selection import cross_validate"
   ]
  },
  {
   "cell_type": "code",
   "execution_count": null,
   "metadata": {
    "colab": {
     "base_uri": "https://localhost:8080/",
     "height": 377
    },
    "colab_type": "code",
    "id": "80XQZgKfim8a",
    "outputId": "50cd8515-541e-48f8-c222-ff938669671a"
   },
   "outputs": [],
   "source": [
    "cv = cross_validate(model, x_test, y=df_pred, scoring='roc_auc', cv=10)"
   ]
  },
  {
   "cell_type": "code",
   "execution_count": 114,
   "metadata": {
    "colab": {
     "base_uri": "https://localhost:8080/",
     "height": 34
    },
    "colab_type": "code",
    "id": "7rkwLI7Qim8e",
    "outputId": "6c4af9c2-0143-44c8-848a-35e169b394e3"
   },
   "outputs": [
    {
     "data": {
      "text/plain": [
       "0.9870733841692413"
      ]
     },
     "execution_count": 114,
     "metadata": {},
     "output_type": "execute_result"
    }
   ],
   "source": [
    "cv['test_score'].mean()"
   ]
  },
  {
   "cell_type": "markdown",
   "metadata": {
    "colab_type": "text",
    "id": "3KCnDNy_im8h"
   },
   "source": [
    "## SAVING"
   ]
  },
  {
   "cell_type": "code",
   "execution_count": 115,
   "metadata": {
    "colab": {},
    "colab_type": "code",
    "id": "rCkQjKGRim8h"
   },
   "outputs": [],
   "source": [
    "df_pred = pd.DataFrame({'id':df_test['id'], 'Gaji':temp})"
   ]
  },
  {
   "cell_type": "code",
   "execution_count": 116,
   "metadata": {
    "colab": {
     "base_uri": "https://localhost:8080/",
     "height": 419
    },
    "colab_type": "code",
    "id": "_ExbQOWIim8k",
    "outputId": "93e5e366-c05a-4af0-82e6-27b18e99268e"
   },
   "outputs": [
    {
     "data": {
      "text/html": [
       "<div>\n",
       "<style scoped>\n",
       "    .dataframe tbody tr th:only-of-type {\n",
       "        vertical-align: middle;\n",
       "    }\n",
       "\n",
       "    .dataframe tbody tr th {\n",
       "        vertical-align: top;\n",
       "    }\n",
       "\n",
       "    .dataframe thead th {\n",
       "        text-align: right;\n",
       "    }\n",
       "</style>\n",
       "<table border=\"1\" class=\"dataframe\">\n",
       "  <thead>\n",
       "    <tr style=\"text-align: right;\">\n",
       "      <th></th>\n",
       "      <th>id</th>\n",
       "      <th>Gaji</th>\n",
       "    </tr>\n",
       "  </thead>\n",
       "  <tbody>\n",
       "    <tr>\n",
       "      <th>0</th>\n",
       "      <td>35994</td>\n",
       "      <td>0</td>\n",
       "    </tr>\n",
       "    <tr>\n",
       "      <th>1</th>\n",
       "      <td>35995</td>\n",
       "      <td>0</td>\n",
       "    </tr>\n",
       "    <tr>\n",
       "      <th>2</th>\n",
       "      <td>35996</td>\n",
       "      <td>1</td>\n",
       "    </tr>\n",
       "    <tr>\n",
       "      <th>3</th>\n",
       "      <td>35997</td>\n",
       "      <td>0</td>\n",
       "    </tr>\n",
       "    <tr>\n",
       "      <th>4</th>\n",
       "      <td>35998</td>\n",
       "      <td>0</td>\n",
       "    </tr>\n",
       "    <tr>\n",
       "      <th>...</th>\n",
       "      <td>...</td>\n",
       "      <td>...</td>\n",
       "    </tr>\n",
       "    <tr>\n",
       "      <th>9594</th>\n",
       "      <td>45588</td>\n",
       "      <td>0</td>\n",
       "    </tr>\n",
       "    <tr>\n",
       "      <th>9595</th>\n",
       "      <td>45589</td>\n",
       "      <td>0</td>\n",
       "    </tr>\n",
       "    <tr>\n",
       "      <th>9596</th>\n",
       "      <td>45590</td>\n",
       "      <td>0</td>\n",
       "    </tr>\n",
       "    <tr>\n",
       "      <th>9597</th>\n",
       "      <td>45591</td>\n",
       "      <td>0</td>\n",
       "    </tr>\n",
       "    <tr>\n",
       "      <th>9598</th>\n",
       "      <td>45592</td>\n",
       "      <td>0</td>\n",
       "    </tr>\n",
       "  </tbody>\n",
       "</table>\n",
       "<p>9599 rows × 2 columns</p>\n",
       "</div>"
      ],
      "text/plain": [
       "         id  Gaji\n",
       "0     35994     0\n",
       "1     35995     0\n",
       "2     35996     1\n",
       "3     35997     0\n",
       "4     35998     0\n",
       "...     ...   ...\n",
       "9594  45588     0\n",
       "9595  45589     0\n",
       "9596  45590     0\n",
       "9597  45591     0\n",
       "9598  45592     0\n",
       "\n",
       "[9599 rows x 2 columns]"
      ]
     },
     "execution_count": 116,
     "metadata": {},
     "output_type": "execute_result"
    }
   ],
   "source": [
    "df_pred"
   ]
  },
  {
   "cell_type": "code",
   "execution_count": 117,
   "metadata": {
    "colab": {},
    "colab_type": "code",
    "id": "uRtoEiO-im8n"
   },
   "outputs": [],
   "source": [
    "df_pred.to_csv('Gaji_rf_30_nopekerjaan_naufalhisyam46.csv', index=False)"
   ]
  },
  {
   "cell_type": "code",
   "execution_count": null,
   "metadata": {
    "colab": {},
    "colab_type": "code",
    "id": "5DomVDv2im8q",
    "outputId": "0236a43a-4be4-4ea5-96c2-e9b535770d75"
   },
   "outputs": [
    {
     "data": {
      "text/html": [
       "<div>\n",
       "<style scoped>\n",
       "    .dataframe tbody tr th:only-of-type {\n",
       "        vertical-align: middle;\n",
       "    }\n",
       "\n",
       "    .dataframe tbody tr th {\n",
       "        vertical-align: top;\n",
       "    }\n",
       "\n",
       "    .dataframe thead th {\n",
       "        text-align: right;\n",
       "    }\n",
       "</style>\n",
       "<table border=\"1\" class=\"dataframe\">\n",
       "  <thead>\n",
       "    <tr style=\"text-align: right;\">\n",
       "      <th></th>\n",
       "      <th>id</th>\n",
       "      <th>Gaji</th>\n",
       "    </tr>\n",
       "  </thead>\n",
       "  <tbody>\n",
       "    <tr>\n",
       "      <th>0</th>\n",
       "      <td>35994</td>\n",
       "      <td>0</td>\n",
       "    </tr>\n",
       "    <tr>\n",
       "      <th>1</th>\n",
       "      <td>35995</td>\n",
       "      <td>0</td>\n",
       "    </tr>\n",
       "    <tr>\n",
       "      <th>2</th>\n",
       "      <td>35996</td>\n",
       "      <td>0</td>\n",
       "    </tr>\n",
       "  </tbody>\n",
       "</table>\n",
       "</div>"
      ],
      "text/plain": [
       "      id  Gaji\n",
       "0  35994     0\n",
       "1  35995     0\n",
       "2  35996     0"
      ]
     },
     "execution_count": 68,
     "metadata": {
      "tags": []
     },
     "output_type": "execute_result"
    }
   ],
   "source": [
    "sample"
   ]
  },
  {
   "cell_type": "code",
   "execution_count": null,
   "metadata": {
    "colab": {},
    "colab_type": "code",
    "id": "_pbF80P2im8t"
   },
   "outputs": [],
   "source": []
  }
 ],
 "metadata": {
  "colab": {
   "collapsed_sections": [],
   "name": "ML_KNearestNeighbors.ipynb",
   "provenance": [],
   "toc_visible": true
  },
  "kernelspec": {
   "display_name": "Python 3",
   "language": "python",
   "name": "python3"
  },
  "language_info": {
   "codemirror_mode": {
    "name": "ipython",
    "version": 3
   },
   "file_extension": ".py",
   "mimetype": "text/x-python",
   "name": "python",
   "nbconvert_exporter": "python",
   "pygments_lexer": "ipython3",
   "version": "3.8.3"
  }
 },
 "nbformat": 4,
 "nbformat_minor": 4
}
