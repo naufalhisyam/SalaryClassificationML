{
 "cells": [
  {
   "attachments": {},
   "cell_type": "markdown",
   "metadata": {},
   "source": [
    "## DecisionTree"
   ]
  },
  {
   "cell_type": "code",
   "execution_count": 1,
   "metadata": {},
   "outputs": [],
   "source": [
    "import numpy as np\n",
    "import pandas as pd\n",
    "\n",
    "df_train = pd.read_csv('train_std.csv')\n",
    "df_test = pd.read_csv('test_std.csv')"
   ]
  },
  {
   "cell_type": "code",
   "execution_count": 2,
   "metadata": {},
   "outputs": [
    {
     "data": {
      "text/html": [
       "<div>\n",
       "<style scoped>\n",
       "    .dataframe tbody tr th:only-of-type {\n",
       "        vertical-align: middle;\n",
       "    }\n",
       "\n",
       "    .dataframe tbody tr th {\n",
       "        vertical-align: top;\n",
       "    }\n",
       "\n",
       "    .dataframe thead th {\n",
       "        text-align: right;\n",
       "    }\n",
       "</style>\n",
       "<table border=\"1\" class=\"dataframe\">\n",
       "  <thead>\n",
       "    <tr style=\"text-align: right;\">\n",
       "      <th></th>\n",
       "      <th>id</th>\n",
       "      <th>Jenis Kelamin</th>\n",
       "      <th>Gaji</th>\n",
       "      <th>Berpisah</th>\n",
       "      <th>Cerai</th>\n",
       "      <th>Janda</th>\n",
       "      <th>Menikah</th>\n",
       "      <th>Menikah LDR</th>\n",
       "      <th>Ekesekutif Managerial</th>\n",
       "      <th>Mesin Inspeksi</th>\n",
       "      <th>...</th>\n",
       "      <th>SD</th>\n",
       "      <th>SMA</th>\n",
       "      <th>Sarjana</th>\n",
       "      <th>Sekolah Professional</th>\n",
       "      <th>Jam per Minggu</th>\n",
       "      <th>Jmlh Tahun Pendidikan</th>\n",
       "      <th>Umur</th>\n",
       "      <th>Berat Akhir</th>\n",
       "      <th>Keuntungan Kapital</th>\n",
       "      <th>Kerugian Capital</th>\n",
       "    </tr>\n",
       "  </thead>\n",
       "  <tbody>\n",
       "    <tr>\n",
       "      <th>0</th>\n",
       "      <td>0</td>\n",
       "      <td>0</td>\n",
       "      <td>0</td>\n",
       "      <td>0</td>\n",
       "      <td>0</td>\n",
       "      <td>0</td>\n",
       "      <td>0</td>\n",
       "      <td>0</td>\n",
       "      <td>0</td>\n",
       "      <td>0</td>\n",
       "      <td>...</td>\n",
       "      <td>0</td>\n",
       "      <td>1</td>\n",
       "      <td>0</td>\n",
       "      <td>0</td>\n",
       "      <td>-0.439516</td>\n",
       "      <td>-0.419405</td>\n",
       "      <td>-1.291639</td>\n",
       "      <td>0.500754</td>\n",
       "      <td>-0.146026</td>\n",
       "      <td>-0.21628</td>\n",
       "    </tr>\n",
       "    <tr>\n",
       "      <th>1</th>\n",
       "      <td>1</td>\n",
       "      <td>0</td>\n",
       "      <td>0</td>\n",
       "      <td>0</td>\n",
       "      <td>1</td>\n",
       "      <td>0</td>\n",
       "      <td>0</td>\n",
       "      <td>0</td>\n",
       "      <td>1</td>\n",
       "      <td>0</td>\n",
       "      <td>...</td>\n",
       "      <td>0</td>\n",
       "      <td>0</td>\n",
       "      <td>0</td>\n",
       "      <td>0</td>\n",
       "      <td>-0.035226</td>\n",
       "      <td>-1.584555</td>\n",
       "      <td>0.755732</td>\n",
       "      <td>-0.464550</td>\n",
       "      <td>-0.146026</td>\n",
       "      <td>-0.21628</td>\n",
       "    </tr>\n",
       "    <tr>\n",
       "      <th>2</th>\n",
       "      <td>2</td>\n",
       "      <td>1</td>\n",
       "      <td>1</td>\n",
       "      <td>0</td>\n",
       "      <td>0</td>\n",
       "      <td>0</td>\n",
       "      <td>1</td>\n",
       "      <td>0</td>\n",
       "      <td>1</td>\n",
       "      <td>0</td>\n",
       "      <td>...</td>\n",
       "      <td>0</td>\n",
       "      <td>0</td>\n",
       "      <td>0</td>\n",
       "      <td>0</td>\n",
       "      <td>0.369063</td>\n",
       "      <td>0.745744</td>\n",
       "      <td>0.390130</td>\n",
       "      <td>-0.660437</td>\n",
       "      <td>0.450185</td>\n",
       "      <td>-0.21628</td>\n",
       "    </tr>\n",
       "    <tr>\n",
       "      <th>3</th>\n",
       "      <td>3</td>\n",
       "      <td>1</td>\n",
       "      <td>0</td>\n",
       "      <td>0</td>\n",
       "      <td>0</td>\n",
       "      <td>0</td>\n",
       "      <td>0</td>\n",
       "      <td>0</td>\n",
       "      <td>0</td>\n",
       "      <td>0</td>\n",
       "      <td>...</td>\n",
       "      <td>0</td>\n",
       "      <td>0</td>\n",
       "      <td>1</td>\n",
       "      <td>0</td>\n",
       "      <td>-0.439516</td>\n",
       "      <td>1.134128</td>\n",
       "      <td>-1.072278</td>\n",
       "      <td>0.044406</td>\n",
       "      <td>-0.146026</td>\n",
       "      <td>-0.21628</td>\n",
       "    </tr>\n",
       "    <tr>\n",
       "      <th>4</th>\n",
       "      <td>4</td>\n",
       "      <td>1</td>\n",
       "      <td>1</td>\n",
       "      <td>0</td>\n",
       "      <td>0</td>\n",
       "      <td>0</td>\n",
       "      <td>1</td>\n",
       "      <td>0</td>\n",
       "      <td>0</td>\n",
       "      <td>0</td>\n",
       "      <td>...</td>\n",
       "      <td>0</td>\n",
       "      <td>0</td>\n",
       "      <td>0</td>\n",
       "      <td>0</td>\n",
       "      <td>-0.035226</td>\n",
       "      <td>1.522511</td>\n",
       "      <td>-0.414194</td>\n",
       "      <td>0.280595</td>\n",
       "      <td>1.896261</td>\n",
       "      <td>-0.21628</td>\n",
       "    </tr>\n",
       "  </tbody>\n",
       "</table>\n",
       "<p>5 rows × 49 columns</p>\n",
       "</div>"
      ],
      "text/plain": [
       "   id  Jenis Kelamin  Gaji  Berpisah  Cerai  Janda  Menikah  Menikah LDR  \\\n",
       "0   0              0     0         0      0      0        0            0   \n",
       "1   1              0     0         0      1      0        0            0   \n",
       "2   2              1     1         0      0      0        1            0   \n",
       "3   3              1     0         0      0      0        0            0   \n",
       "4   4              1     1         0      0      0        1            0   \n",
       "\n",
       "   Ekesekutif Managerial  Mesin Inspeksi  ...  SD  SMA  Sarjana  \\\n",
       "0                      0               0  ...   0    1        0   \n",
       "1                      1               0  ...   0    0        0   \n",
       "2                      1               0  ...   0    0        0   \n",
       "3                      0               0  ...   0    0        1   \n",
       "4                      0               0  ...   0    0        0   \n",
       "\n",
       "   Sekolah Professional  Jam per Minggu  Jmlh Tahun Pendidikan      Umur  \\\n",
       "0                     0       -0.439516              -0.419405 -1.291639   \n",
       "1                     0       -0.035226              -1.584555  0.755732   \n",
       "2                     0        0.369063               0.745744  0.390130   \n",
       "3                     0       -0.439516               1.134128 -1.072278   \n",
       "4                     0       -0.035226               1.522511 -0.414194   \n",
       "\n",
       "   Berat Akhir  Keuntungan Kapital  Kerugian Capital  \n",
       "0     0.500754           -0.146026          -0.21628  \n",
       "1    -0.464550           -0.146026          -0.21628  \n",
       "2    -0.660437            0.450185          -0.21628  \n",
       "3     0.044406           -0.146026          -0.21628  \n",
       "4     0.280595            1.896261          -0.21628  \n",
       "\n",
       "[5 rows x 49 columns]"
      ]
     },
     "execution_count": 2,
     "metadata": {},
     "output_type": "execute_result"
    }
   ],
   "source": [
    "df_train.head()"
   ]
  },
  {
   "cell_type": "code",
   "execution_count": 3,
   "metadata": {},
   "outputs": [],
   "source": [
    "x_train = df_train.drop(['id','Gaji'], axis=1)\n",
    "y_train = df_train['Gaji']"
   ]
  },
  {
   "cell_type": "markdown",
   "metadata": {},
   "source": [
    "## MODEL"
   ]
  },
  {
   "cell_type": "code",
   "execution_count": 4,
   "metadata": {},
   "outputs": [],
   "source": [
    "from sklearn.tree import DecisionTreeClassifier\n",
    "from sklearn.model_selection import GridSearchCV"
   ]
  },
  {
   "cell_type": "code",
   "execution_count": 27,
   "metadata": {},
   "outputs": [],
   "source": [
    "params_dtc = {'criterion':['gini','entropy'],'max_depth':np.arange(1,50,1), 'min_samples_split':np.arange(2,10), 'min_samples_leaf':np.arange(1,10,1),}\n",
    "model_dtc = DecisionTreeClassifier()"
   ]
  },
  {
   "cell_type": "code",
   "execution_count": 28,
   "metadata": {},
   "outputs": [
    {
     "name": "stdout",
     "output_type": "stream",
     "text": [
      "Fitting 2 folds for each of 7056 candidates, totalling 14112 fits\n"
     ]
    },
    {
     "name": "stderr",
     "output_type": "stream",
     "text": [
      "[Parallel(n_jobs=-1)]: Using backend LokyBackend with 4 concurrent workers.\n",
      "[Parallel(n_jobs=-1)]: Done  33 tasks      | elapsed:    6.6s\n",
      "[Parallel(n_jobs=-1)]: Done 154 tasks      | elapsed:   10.6s\n",
      "[Parallel(n_jobs=-1)]: Done 357 tasks      | elapsed:   18.5s\n",
      "[Parallel(n_jobs=-1)]: Done 640 tasks      | elapsed:   32.5s\n",
      "[Parallel(n_jobs=-1)]: Done 1005 tasks      | elapsed:   54.8s\n",
      "[Parallel(n_jobs=-1)]: Done 1450 tasks      | elapsed:  1.5min\n",
      "[Parallel(n_jobs=-1)]: Done 1977 tasks      | elapsed:  2.3min\n",
      "[Parallel(n_jobs=-1)]: Done 2584 tasks      | elapsed:  3.3min\n",
      "[Parallel(n_jobs=-1)]: Done 3273 tasks      | elapsed:  4.5min\n",
      "[Parallel(n_jobs=-1)]: Done 4042 tasks      | elapsed:  5.9min\n",
      "[Parallel(n_jobs=-1)]: Done 4893 tasks      | elapsed:  7.4min\n",
      "[Parallel(n_jobs=-1)]: Done 5824 tasks      | elapsed:  9.0min\n",
      "[Parallel(n_jobs=-1)]: Done 6837 tasks      | elapsed: 10.9min\n",
      "[Parallel(n_jobs=-1)]: Done 7930 tasks      | elapsed: 12.0min\n",
      "[Parallel(n_jobs=-1)]: Done 9105 tasks      | elapsed: 13.8min\n",
      "[Parallel(n_jobs=-1)]: Done 10360 tasks      | elapsed: 16.0min\n",
      "[Parallel(n_jobs=-1)]: Done 11697 tasks      | elapsed: 18.5min\n",
      "[Parallel(n_jobs=-1)]: Done 13114 tasks      | elapsed: 21.2min\n",
      "[Parallel(n_jobs=-1)]: Done 14112 out of 14112 | elapsed: 23.1min finished\n"
     ]
    },
    {
     "data": {
      "text/plain": [
       "GridSearchCV(cv=2, estimator=DecisionTreeClassifier(), n_jobs=-1,\n",
       "             param_grid={'criterion': ['gini', 'entropy'],\n",
       "                         'max_depth': array([ 1,  2,  3,  4,  5,  6,  7,  8,  9, 10, 11, 12, 13, 14, 15, 16, 17,\n",
       "       18, 19, 20, 21, 22, 23, 24, 25, 26, 27, 28, 29, 30, 31, 32, 33, 34,\n",
       "       35, 36, 37, 38, 39, 40, 41, 42, 43, 44, 45, 46, 47, 48, 49]),\n",
       "                         'min_samples_leaf': array([1, 2, 3, 4, 5, 6, 7, 8, 9]),\n",
       "                         'min_samples_split': array([2, 3, 4, 5, 6, 7, 8, 9])},\n",
       "             scoring='roc_auc', verbose=2)"
      ]
     },
     "execution_count": 28,
     "metadata": {},
     "output_type": "execute_result"
    }
   ],
   "source": [
    "gs = GridSearchCV(model_dtc, params_dtc, scoring='roc_auc', n_jobs=-1, cv=2, verbose=2)\n",
    "gs.fit(x_train, y_train)"
   ]
  },
  {
   "cell_type": "code",
   "execution_count": 30,
   "metadata": {},
   "outputs": [
    {
     "data": {
      "text/plain": [
       "{'criterion': 'gini',\n",
       " 'max_depth': 8,\n",
       " 'min_samples_leaf': 9,\n",
       " 'min_samples_split': 8}"
      ]
     },
     "execution_count": 30,
     "metadata": {},
     "output_type": "execute_result"
    }
   ],
   "source": [
    "gs.best_params_"
   ]
  },
  {
   "cell_type": "code",
   "execution_count": 31,
   "metadata": {},
   "outputs": [
    {
     "data": {
      "text/plain": [
       "0.9020634438969048"
      ]
     },
     "execution_count": 31,
     "metadata": {},
     "output_type": "execute_result"
    }
   ],
   "source": [
    "gs.best_score_"
   ]
  },
  {
   "cell_type": "code",
   "execution_count": 22,
   "metadata": {},
   "outputs": [],
   "source": [
    "model_dtc = DecisionTreeClassifier(criterion='gini', max_depth=10, min_samples_leaf=9, min_samples_split=3, max_leaf_nodes=None)"
   ]
  },
  {
   "cell_type": "code",
   "execution_count": 23,
   "metadata": {},
   "outputs": [
    {
     "data": {
      "text/plain": [
       "DecisionTreeClassifier(max_depth=10, min_samples_leaf=9, min_samples_split=3)"
      ]
     },
     "execution_count": 23,
     "metadata": {},
     "output_type": "execute_result"
    }
   ],
   "source": [
    "model_dtc.fit(x_train, y_train)"
   ]
  },
  {
   "cell_type": "markdown",
   "metadata": {},
   "source": [
    "## PREDICT"
   ]
  },
  {
   "cell_type": "code",
   "execution_count": 24,
   "metadata": {},
   "outputs": [],
   "source": [
    "x_test = df_test.drop('id',axis=1)"
   ]
  },
  {
   "cell_type": "code",
   "execution_count": 25,
   "metadata": {},
   "outputs": [],
   "source": [
    "temp = model_dtc.predict(x_test)"
   ]
  },
  {
   "cell_type": "code",
   "execution_count": 26,
   "metadata": {},
   "outputs": [],
   "source": [
    "df_pred = pd.DataFrame({'Gaji':temp,})"
   ]
  },
  {
   "cell_type": "code",
   "execution_count": 27,
   "metadata": {},
   "outputs": [
    {
     "name": "stdout",
     "output_type": "stream",
     "text": [
      "<class 'pandas.core.frame.DataFrame'>\n",
      "RangeIndex: 9599 entries, 0 to 9598\n",
      "Data columns (total 1 columns):\n",
      " #   Column  Non-Null Count  Dtype\n",
      "---  ------  --------------  -----\n",
      " 0   Gaji    9599 non-null   int64\n",
      "dtypes: int64(1)\n",
      "memory usage: 75.1 KB\n"
     ]
    }
   ],
   "source": [
    "df_pred.info()"
   ]
  },
  {
   "cell_type": "code",
   "execution_count": 28,
   "metadata": {},
   "outputs": [
    {
     "data": {
      "text/plain": [
       "0    7890\n",
       "1    1709\n",
       "Name: Gaji, dtype: int64"
      ]
     },
     "execution_count": 28,
     "metadata": {},
     "output_type": "execute_result"
    }
   ],
   "source": [
    "df_pred['Gaji'].value_counts()"
   ]
  },
  {
   "cell_type": "markdown",
   "metadata": {},
   "source": [
    "## EVAL"
   ]
  },
  {
   "cell_type": "code",
   "execution_count": 29,
   "metadata": {},
   "outputs": [],
   "source": [
    "from sklearn.model_selection import cross_validate"
   ]
  },
  {
   "cell_type": "code",
   "execution_count": 30,
   "metadata": {},
   "outputs": [],
   "source": [
    "cv = cross_validate(model_dtc, x_test, y=df_pred, scoring='roc_auc', cv=15)"
   ]
  },
  {
   "cell_type": "code",
   "execution_count": 31,
   "metadata": {},
   "outputs": [
    {
     "data": {
      "text/plain": [
       "0.9923732656506393"
      ]
     },
     "execution_count": 31,
     "metadata": {},
     "output_type": "execute_result"
    }
   ],
   "source": [
    "cv['test_score'].mean()"
   ]
  },
  {
   "cell_type": "markdown",
   "metadata": {},
   "source": [
    "## SAVING"
   ]
  },
  {
   "cell_type": "code",
   "execution_count": 32,
   "metadata": {},
   "outputs": [],
   "source": [
    "df_pred = pd.DataFrame({'id':df_test['id'], 'Gaji':temp})"
   ]
  },
  {
   "cell_type": "code",
   "execution_count": 34,
   "metadata": {},
   "outputs": [
    {
     "data": {
      "text/html": [
       "<div>\n",
       "<style scoped>\n",
       "    .dataframe tbody tr th:only-of-type {\n",
       "        vertical-align: middle;\n",
       "    }\n",
       "\n",
       "    .dataframe tbody tr th {\n",
       "        vertical-align: top;\n",
       "    }\n",
       "\n",
       "    .dataframe thead th {\n",
       "        text-align: right;\n",
       "    }\n",
       "</style>\n",
       "<table border=\"1\" class=\"dataframe\">\n",
       "  <thead>\n",
       "    <tr style=\"text-align: right;\">\n",
       "      <th></th>\n",
       "      <th>id</th>\n",
       "      <th>Gaji</th>\n",
       "    </tr>\n",
       "  </thead>\n",
       "  <tbody>\n",
       "    <tr>\n",
       "      <th>0</th>\n",
       "      <td>35994</td>\n",
       "      <td>0</td>\n",
       "    </tr>\n",
       "    <tr>\n",
       "      <th>1</th>\n",
       "      <td>35995</td>\n",
       "      <td>0</td>\n",
       "    </tr>\n",
       "    <tr>\n",
       "      <th>2</th>\n",
       "      <td>35996</td>\n",
       "      <td>0</td>\n",
       "    </tr>\n",
       "    <tr>\n",
       "      <th>3</th>\n",
       "      <td>35997</td>\n",
       "      <td>0</td>\n",
       "    </tr>\n",
       "    <tr>\n",
       "      <th>4</th>\n",
       "      <td>35998</td>\n",
       "      <td>0</td>\n",
       "    </tr>\n",
       "    <tr>\n",
       "      <th>...</th>\n",
       "      <td>...</td>\n",
       "      <td>...</td>\n",
       "    </tr>\n",
       "    <tr>\n",
       "      <th>9594</th>\n",
       "      <td>45588</td>\n",
       "      <td>0</td>\n",
       "    </tr>\n",
       "    <tr>\n",
       "      <th>9595</th>\n",
       "      <td>45589</td>\n",
       "      <td>0</td>\n",
       "    </tr>\n",
       "    <tr>\n",
       "      <th>9596</th>\n",
       "      <td>45590</td>\n",
       "      <td>0</td>\n",
       "    </tr>\n",
       "    <tr>\n",
       "      <th>9597</th>\n",
       "      <td>45591</td>\n",
       "      <td>0</td>\n",
       "    </tr>\n",
       "    <tr>\n",
       "      <th>9598</th>\n",
       "      <td>45592</td>\n",
       "      <td>0</td>\n",
       "    </tr>\n",
       "  </tbody>\n",
       "</table>\n",
       "<p>9599 rows × 2 columns</p>\n",
       "</div>"
      ],
      "text/plain": [
       "         id  Gaji\n",
       "0     35994     0\n",
       "1     35995     0\n",
       "2     35996     0\n",
       "3     35997     0\n",
       "4     35998     0\n",
       "...     ...   ...\n",
       "9594  45588     0\n",
       "9595  45589     0\n",
       "9596  45590     0\n",
       "9597  45591     0\n",
       "9598  45592     0\n",
       "\n",
       "[9599 rows x 2 columns]"
      ]
     },
     "execution_count": 34,
     "metadata": {},
     "output_type": "execute_result"
    }
   ],
   "source": [
    "df_pred"
   ]
  },
  {
   "cell_type": "code",
   "execution_count": 35,
   "metadata": {},
   "outputs": [],
   "source": [
    "df_pred.to_csv('Gaji_DTC_gini_std_bfill_naufalhisyam46.csv', index=False)"
   ]
  },
  {
   "cell_type": "code",
   "execution_count": 36,
   "metadata": {},
   "outputs": [
    {
     "data": {
      "text/html": [
       "<div>\n",
       "<style scoped>\n",
       "    .dataframe tbody tr th:only-of-type {\n",
       "        vertical-align: middle;\n",
       "    }\n",
       "\n",
       "    .dataframe tbody tr th {\n",
       "        vertical-align: top;\n",
       "    }\n",
       "\n",
       "    .dataframe thead th {\n",
       "        text-align: right;\n",
       "    }\n",
       "</style>\n",
       "<table border=\"1\" class=\"dataframe\">\n",
       "  <thead>\n",
       "    <tr style=\"text-align: right;\">\n",
       "      <th></th>\n",
       "      <th>id</th>\n",
       "      <th>Gaji</th>\n",
       "    </tr>\n",
       "  </thead>\n",
       "  <tbody>\n",
       "    <tr>\n",
       "      <th>0</th>\n",
       "      <td>35994</td>\n",
       "      <td>0</td>\n",
       "    </tr>\n",
       "    <tr>\n",
       "      <th>1</th>\n",
       "      <td>35995</td>\n",
       "      <td>0</td>\n",
       "    </tr>\n",
       "    <tr>\n",
       "      <th>2</th>\n",
       "      <td>35996</td>\n",
       "      <td>0</td>\n",
       "    </tr>\n",
       "    <tr>\n",
       "      <th>3</th>\n",
       "      <td>35997</td>\n",
       "      <td>0</td>\n",
       "    </tr>\n",
       "    <tr>\n",
       "      <th>4</th>\n",
       "      <td>35998</td>\n",
       "      <td>0</td>\n",
       "    </tr>\n",
       "    <tr>\n",
       "      <th>...</th>\n",
       "      <td>...</td>\n",
       "      <td>...</td>\n",
       "    </tr>\n",
       "    <tr>\n",
       "      <th>9594</th>\n",
       "      <td>45588</td>\n",
       "      <td>0</td>\n",
       "    </tr>\n",
       "    <tr>\n",
       "      <th>9595</th>\n",
       "      <td>45589</td>\n",
       "      <td>0</td>\n",
       "    </tr>\n",
       "    <tr>\n",
       "      <th>9596</th>\n",
       "      <td>45590</td>\n",
       "      <td>0</td>\n",
       "    </tr>\n",
       "    <tr>\n",
       "      <th>9597</th>\n",
       "      <td>45591</td>\n",
       "      <td>0</td>\n",
       "    </tr>\n",
       "    <tr>\n",
       "      <th>9598</th>\n",
       "      <td>45592</td>\n",
       "      <td>0</td>\n",
       "    </tr>\n",
       "  </tbody>\n",
       "</table>\n",
       "<p>9599 rows × 2 columns</p>\n",
       "</div>"
      ],
      "text/plain": [
       "         id  Gaji\n",
       "0     35994     0\n",
       "1     35995     0\n",
       "2     35996     0\n",
       "3     35997     0\n",
       "4     35998     0\n",
       "...     ...   ...\n",
       "9594  45588     0\n",
       "9595  45589     0\n",
       "9596  45590     0\n",
       "9597  45591     0\n",
       "9598  45592     0\n",
       "\n",
       "[9599 rows x 2 columns]"
      ]
     },
     "execution_count": 36,
     "metadata": {},
     "output_type": "execute_result"
    }
   ],
   "source": [
    "df_pred"
   ]
  },
  {
   "cell_type": "code",
   "execution_count": null,
   "metadata": {},
   "outputs": [],
   "source": []
  }
 ],
 "metadata": {
  "kernelspec": {
   "display_name": "Python 3",
   "language": "python",
   "name": "python3"
  },
  "language_info": {
   "codemirror_mode": {
    "name": "ipython",
    "version": 3
   },
   "file_extension": ".py",
   "mimetype": "text/x-python",
   "name": "python",
   "nbconvert_exporter": "python",
   "pygments_lexer": "ipython3",
   "version": "3.8.3"
  }
 },
 "nbformat": 4,
 "nbformat_minor": 4
}
